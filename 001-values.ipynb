{
  "cells": [
    {
      "cell_type": "markdown",
      "metadata": {
        "id": "R9rgblfxtZjX"
      },
      "source": [
        "| &nbsp; | &nbsp; | &nbsp; |\n",
        "|--------|--------|--------|\n",
        "| [Return to Index Notebook](./index.ipynb) | [View on GitHub](https://github.com/hpcgarage/prymer) | [![Open in Colab](https://colab.research.google.com/assets/colab-badge.svg)](https://colab.research.google.com/github/hpcgarage/prymer/blob/master/001-values.ipynb) |"
      ]
    },
    {
      "cell_type": "markdown",
      "metadata": {
        "id": "u9vQNDw6tZjZ"
      },
      "source": [
        "# Values, variables, and types\n",
        "\n",
        "Key concepts\n",
        "* Primitive values and types: `int`, `float`, `complex`, `bool`, `str`, and `NoneType`\n",
        "    - Type promotion\n",
        "    - Type queries\n",
        "* Strings\n",
        "    - Indexing\n",
        "    - Slicing and `slice` objects\n",
        "* Booleans and bit manipulation\n",
        "* Syntatic sugar: Update operations"
      ]
    },
    {
      "cell_type": "markdown",
      "metadata": {
        "id": "vPBNS-0QtZja"
      },
      "source": [
        "| Type        | Example        | Description                                                  |\n",
        "|-------------|----------------|--------------------------------------------------------------|\n",
        "| ``int``     | ``x = 1``      | integers (i.e., whole numbers)                               |\n",
        "| ``float``   | ``x = 1.0``    | floating-point numbers (i.e., real numbers)                  |\n",
        "| ``complex`` | ``x = 1 + 2j`` | Complex numbers (i.e., numbers with real and imaginary part) |\n",
        "| ``bool``    | ``x = True``   | Boolean: True/False values                                   |\n",
        "| ``str``     | ``x = 'abc'``  | String: characters or text                                   |\n",
        "| ``NoneType``| ``x = None``   | Special object indicating nulls                              |"
      ]
    },
    {
      "cell_type": "markdown",
      "metadata": {
        "id": "_n2dS52gtZja"
      },
      "source": [
        "## Basics"
      ]
    },
    {
      "cell_type": "markdown",
      "metadata": {
        "id": "19WS0yKvtZja"
      },
      "source": [
        "Values have types:"
      ]
    },
    {
      "cell_type": "code",
      "execution_count": null,
      "metadata": {
        "id": "9BNugFYmtZjb"
      },
      "outputs": [],
      "source": [
        "3"
      ]
    },
    {
      "cell_type": "code",
      "execution_count": null,
      "metadata": {
        "id": "GG8xjF2atZjb"
      },
      "outputs": [],
      "source": [
        "type(3)"
      ]
    },
    {
      "cell_type": "code",
      "execution_count": null,
      "metadata": {
        "id": "1RrRLOA5tZjc"
      },
      "outputs": [],
      "source": [
        "3.0"
      ]
    },
    {
      "cell_type": "code",
      "execution_count": null,
      "metadata": {
        "id": "B95P0dqKtZjc"
      },
      "outputs": [],
      "source": [
        "type(3.0)"
      ]
    },
    {
      "cell_type": "code",
      "execution_count": null,
      "metadata": {
        "id": "o5Txze3EtZjc"
      },
      "outputs": [],
      "source": [
        "\"3\""
      ]
    },
    {
      "cell_type": "code",
      "execution_count": null,
      "metadata": {
        "id": "nVJZ4NfhtZjc"
      },
      "outputs": [],
      "source": [
        "type(\"3\")"
      ]
    },
    {
      "cell_type": "markdown",
      "metadata": {
        "id": "e_dg1HiztZjc"
      },
      "source": [
        "Variables name values:"
      ]
    },
    {
      "cell_type": "code",
      "execution_count": null,
      "metadata": {
        "id": "B59ja7jOtZjd"
      },
      "outputs": [],
      "source": [
        "x = 5\n",
        "print(x)"
      ]
    },
    {
      "cell_type": "markdown",
      "metadata": {
        "id": "z22brwtxtZjd"
      },
      "source": [
        "Values may be combined using the \"natural\" operators. For integers and floats, for example, you have these options:\n",
        "\n",
        "| Operator     | Name           | Description                                            |\n",
        "|--------------|----------------|--------------------------------------------------------|\n",
        "| ``a + b``    | Addition       | Sum of ``a`` and ``b``                                 |\n",
        "| ``a - b``    | Subtraction    | Difference of ``a`` and ``b``                          |\n",
        "| ``a * b``    | Multiplication | Product of ``a`` and ``b``                             |\n",
        "| ``a / b``    | True division  | Quotient of ``a`` and ``b``                            |\n",
        "| ``a // b``   | Floor division | Quotient of ``a`` and ``b``, removing fractional parts |\n",
        "| ``a % b``    | Modulus        | Integer remainder after division of ``a`` by ``b``     |\n",
        "| ``a ** b``   | Exponentiation | ``a`` raised to the power of ``b``                     |\n",
        "| ``-a``       | Negation       | The negative of ``a``                                  |\n",
        "| ``+a``       | Unary plus     | ``a`` unchanged (rarely used)                          |"
      ]
    },
    {
      "cell_type": "code",
      "execution_count": null,
      "metadata": {
        "id": "LjAwfwd-tZjd"
      },
      "outputs": [],
      "source": [
        "print(2*x + 3)"
      ]
    },
    {
      "cell_type": "markdown",
      "metadata": {
        "id": "G73NYvq4tZjd"
      },
      "source": [
        "> **Aside.** Formatted I/O and formatted string literals:"
      ]
    },
    {
      "cell_type": "code",
      "execution_count": null,
      "metadata": {
        "id": "tDmkGrx_tZjd"
      },
      "outputs": [],
      "source": [
        "print('{X} has type {T}'.format(X=x, T=type(x)))\n",
        "print(f'{x} has type {type(x)}')"
      ]
    },
    {
      "cell_type": "markdown",
      "metadata": {
        "id": "h2KCT1NNtZjd"
      },
      "source": [
        "**Type promotion.** For some types, the type of the result is promoted automatically:"
      ]
    },
    {
      "cell_type": "code",
      "execution_count": null,
      "metadata": {
        "id": "7GLQzjmstZjd"
      },
      "outputs": [],
      "source": [
        "x = 1\n",
        "y = 2\n",
        "z = x / y\n",
        "print(x, 'has type', type(x))\n",
        "print(y, 'has type', type(y))\n",
        "print(z, 'has type', type(z))"
      ]
    },
    {
      "cell_type": "code",
      "execution_count": null,
      "metadata": {
        "id": "LJ1RhJB9tZjd"
      },
      "outputs": [],
      "source": [
        "# Aside: integer division (floor)\n",
        "print(5 / 2, type(5 / 2))\n",
        "print(5 // 2, type(5 // 2))"
      ]
    },
    {
      "cell_type": "markdown",
      "metadata": {
        "id": "wZ0Y5PO7tZjd"
      },
      "source": [
        "**Type queries** (asking for a type):"
      ]
    },
    {
      "cell_type": "code",
      "execution_count": null,
      "metadata": {
        "id": "jZmWOeL9tZjd"
      },
      "outputs": [],
      "source": [
        "x = 5\n",
        "print(type(x) is int)\n",
        "print(type(x), isinstance(x, int)) # Preferred idiom"
      ]
    },
    {
      "cell_type": "code",
      "execution_count": null,
      "metadata": {
        "id": "KU6xwVe6tZjd"
      },
      "outputs": [],
      "source": [
        "print(type(True), isinstance(True, int))\n",
        "print(type(5.0), isinstance(5.0, type(x)))\n",
        "print(type('5'), isinstance('5', type(x)))\n",
        "print(type(5.0), isinstance(5.0, complex)) # Does not always behave as expected"
      ]
    },
    {
      "cell_type": "code",
      "execution_count": null,
      "metadata": {
        "id": "0QyOmbkctZjd"
      },
      "outputs": [],
      "source": [
        "(5.0).is_integer() # Special test for floating-point values"
      ]
    },
    {
      "cell_type": "markdown",
      "metadata": {
        "id": "7vB_XlBStZje"
      },
      "source": [
        "**`None`/`NoneType`.** The \"non-value\" value, `None`, and its and type:"
      ]
    },
    {
      "cell_type": "code",
      "execution_count": null,
      "metadata": {
        "id": "s2usaCR9tZje"
      },
      "outputs": [],
      "source": [
        "x = None\n",
        "print(x, ':', type(x))\n",
        "print(x == None, x != None)\n",
        "print(x is None, x is not None) # Preferred idiom"
      ]
    },
    {
      "cell_type": "markdown",
      "metadata": {
        "id": "o4dbIubItZje"
      },
      "source": [
        "**\"Big\" integers by default.** Integers do not \"overflow\" as they do in most other languages."
      ]
    },
    {
      "cell_type": "code",
      "execution_count": null,
      "metadata": {
        "id": "wmmvA89CtZje"
      },
      "outputs": [],
      "source": [
        "print('(a)', 3**4)\n",
        "print('(b)', 3**40)\n",
        "print('(c)', 3**400)"
      ]
    },
    {
      "cell_type": "markdown",
      "metadata": {
        "id": "Cy3_Ou-5tZje"
      },
      "source": [
        "**Math functions.** For numerical values, many of the functions you might want are available in the `math` module."
      ]
    },
    {
      "cell_type": "code",
      "execution_count": 3,
      "metadata": {
        "id": "qWxvEUR9tZje",
        "outputId": "7e82431b-0cce-4597-f3a0-8a11e07c82e5",
        "colab": {
          "base_uri": "https://localhost:8080/"
        }
      },
      "outputs": [
        {
          "output_type": "execute_result",
          "data": {
            "text/plain": [
              "<module 'math' (built-in)>"
            ]
          },
          "metadata": {},
          "execution_count": 3
        }
      ],
      "source": [
        "import math\n",
        "\n",
        "math"
      ]
    },
    {
      "cell_type": "markdown",
      "metadata": {
        "id": "RXEQDqrttZje"
      },
      "source": [
        "## Strings"
      ]
    },
    {
      "cell_type": "code",
      "execution_count": 4,
      "metadata": {
        "id": "SP6AbWIstZje",
        "outputId": "f248aa2e-54a4-4829-8549-53a9c29e5499",
        "colab": {
          "base_uri": "https://localhost:8080/"
        }
      },
      "outputs": [
        {
          "output_type": "stream",
          "name": "stdout",
          "text": [
            "message : <class 'str'>\n"
          ]
        }
      ],
      "source": [
        "bottle = \"message\"\n",
        "print(bottle, ':', type(bottle))"
      ]
    },
    {
      "cell_type": "code",
      "execution_count": null,
      "metadata": {
        "id": "h8jMG8gktZje"
      },
      "outputs": [],
      "source": [
        "bottle + bottle"
      ]
    },
    {
      "cell_type": "code",
      "execution_count": null,
      "metadata": {
        "id": "7bwoAFB9tZje"
      },
      "outputs": [],
      "source": [
        "'sag' in bottle"
      ]
    },
    {
      "cell_type": "code",
      "execution_count": null,
      "metadata": {
        "id": "S4z-O_NWtZje"
      },
      "outputs": [],
      "source": [
        "sixpack = bottle * 6\n",
        "print(\"|'{s}'| == {n}.\".format(s=sixpack, n=len(sixpack))) # print string and its length"
      ]
    },
    {
      "cell_type": "code",
      "execution_count": 2,
      "metadata": {
        "id": "WDDoAyJRtZje",
        "outputId": "6b54d39e-03a2-4a47-f8a1-4aa02f1136d6",
        "colab": {
          "base_uri": "https://localhost:8080/",
          "height": 144
        }
      },
      "outputs": [
        {
          "output_type": "error",
          "ename": "NameError",
          "evalue": "name 'bottle' is not defined",
          "traceback": [
            "\u001b[0;31m---------------------------------------------------------------------------\u001b[0m",
            "\u001b[0;31mNameError\u001b[0m                                 Traceback (most recent call last)",
            "\u001b[0;32m<ipython-input-2-0f327f19366e>\u001b[0m in \u001b[0;36m<cell line: 0>\u001b[0;34m()\u001b[0m\n\u001b[0;32m----> 1\u001b[0;31m \u001b[0mbottle\u001b[0m\u001b[0;34m.\u001b[0m\u001b[0mupper\u001b[0m\u001b[0;34m(\u001b[0m\u001b[0;34m)\u001b[0m\u001b[0;34m\u001b[0m\u001b[0;34m\u001b[0m\u001b[0m\n\u001b[0m",
            "\u001b[0;31mNameError\u001b[0m: name 'bottle' is not defined"
          ]
        }
      ],
      "source": [
        "bottle.upper()"
      ]
    },
    {
      "cell_type": "markdown",
      "metadata": {
        "id": "gGybXZ8QtZje"
      },
      "source": [
        "_Aside:_ In the cell below, type `bottle.` and then press tab."
      ]
    },
    {
      "cell_type": "markdown",
      "metadata": {
        "id": "U5300NogtZje"
      },
      "source": [
        "**Indexing strings.**"
      ]
    },
    {
      "cell_type": "code",
      "execution_count": null,
      "metadata": {
        "id": "uvYE52y3tZje"
      },
      "outputs": [],
      "source": [
        "print(f'|{bottle}| == {len(bottle)}')\n",
        "print('0:', bottle[0])\n",
        "print('1:', bottle[1])\n",
        "print('2:', bottle[2])\n",
        "print('3:', bottle[3])\n",
        "print('4:', bottle[4])\n",
        "print('5:', bottle[5])\n",
        "print('6:', bottle[6])\n",
        "# print('7:', bottle[7]) <-- out-of-range"
      ]
    },
    {
      "cell_type": "markdown",
      "metadata": {
        "id": "6o7xa_KXtZji"
      },
      "source": [
        "**Slices.** Let $0 \\leq a < b$. Then $a:b$ is a _slice_ that specifies the right-open interval, $[a, b)$."
      ]
    },
    {
      "cell_type": "code",
      "execution_count": null,
      "metadata": {
        "id": "Am4wWNnhtZji"
      },
      "outputs": [],
      "source": [
        "print(\"'{}'\".format(bottle[3:5]))\n",
        "print(\"'{}'\".format(bottle[5:3])) # Empty, since a >= b"
      ]
    },
    {
      "cell_type": "markdown",
      "metadata": {
        "id": "6Dd3X-ZVtZji"
      },
      "source": [
        "If $a$ (or $b$) is negative, then it is replaced with $n+a$ (or $n+b$), where $n$ is the length of the string. In other words, negative positions are interpreted as \"counting from the end.\""
      ]
    },
    {
      "cell_type": "code",
      "execution_count": null,
      "metadata": {
        "id": "WNWkGaeotZji"
      },
      "outputs": [],
      "source": [
        "print(\"'{}'\".format(bottle[-3:-5])) # n-3:n-5, which is empty since n-3 > n-5\n",
        "print(\"'{}'\".format(bottle[-5:-3]))"
      ]
    },
    {
      "cell_type": "markdown",
      "metadata": {
        "id": "AoWkW502tZji"
      },
      "source": [
        "A slice may have a third parameter, $a:b:s$, where $s$ denotes the _step size_. Again, assume $0 \\leq a < b$ and suppose $s > 0$. Then the 3-parameter slice $a:b:s$ expands into the sequence, $a, a+s, a+2s, \\ldots, a+(k-1)s$, where $k = \\left\\lfloor\\frac{b-a}{s}\\right\\rfloor$.\n",
        "\n",
        "_Defaults._ Omitting `a`, `b`, or `s` yields the defaults of `a=0`, `b=len(x)`, and `s=1`."
      ]
    },
    {
      "cell_type": "code",
      "execution_count": 5,
      "metadata": {
        "id": "LybdAUfAtZji",
        "outputId": "5155fae5-c154-453d-cf99-3e17487c9eaf",
        "colab": {
          "base_uri": "https://localhost:8080/"
        }
      },
      "outputs": [
        {
          "output_type": "stream",
          "name": "stdout",
          "text": [
            "sae\n",
            "sae\n"
          ]
        }
      ],
      "source": [
        "print(bottle[2:7:2])\n",
        "print(bottle[2::2])"
      ]
    },
    {
      "cell_type": "markdown",
      "metadata": {
        "id": "KXnkqgpTtZji"
      },
      "source": [
        "Right-open intervals allow simple splittings of intervals:"
      ]
    },
    {
      "cell_type": "code",
      "execution_count": 7,
      "metadata": {
        "id": "T1olssP_tZjj",
        "outputId": "29e95dd9-ebc9-42b2-cd36-d695b4d8392b",
        "colab": {
          "base_uri": "https://localhost:8080/"
        }
      },
      "outputs": [
        {
          "output_type": "stream",
          "name": "stdout",
          "text": [
            "mess age\n",
            "mess age\n",
            "mess age\n"
          ]
        }
      ],
      "source": [
        "print(bottle[:4],  # Up to (but excluding) 4, since intervals are right-open\n",
        "      bottle[4:])  # Resume at 4\n",
        "\n",
        "k = len(bottle) - 3 # Note: len(bottle) == 7, so this is same as above\n",
        "print(bottle[:k], bottle[k:])\n",
        "\n",
        "k = -3 # Recall: a negative endpoint x becomes n+x\n",
        "print(bottle[:-3], bottle[-3:]) # Shorthand"
      ]
    },
    {
      "cell_type": "markdown",
      "metadata": {
        "id": "rJ5PJZ3ctZjj"
      },
      "source": [
        "**Negative steps** ($s < 0$) reverse the direction. That is, if $s < 0$ then one cannot have a non-empty sequence unless $a > b$. The defaults for omitted $a$ and $b$ values change to $a=n-1$ and $b=-1$ (recall that the intervals are right-open)."
      ]
    },
    {
      "cell_type": "code",
      "execution_count": 8,
      "metadata": {
        "id": "W8pzLizPtZjj",
        "outputId": "434a8c68-cdf4-4025-e951-8eac098d9e70",
        "colab": {
          "base_uri": "https://localhost:8080/"
        }
      },
      "outputs": [
        {
          "output_type": "stream",
          "name": "stdout",
          "text": [
            "egassem\n",
            "easm easm\n",
            "'message'\n",
            "'m'\n"
          ]
        }
      ],
      "source": [
        "print(bottle[::-1])\n",
        "print(bottle[::-2], bottle[6::-2])\n",
        "print(\"'{}'\".format(bottle[0::1]))\n",
        "print(\"'{}'\".format(bottle[0::-1]))"
      ]
    },
    {
      "cell_type": "markdown",
      "metadata": {
        "id": "5W1UZQNDtZjj"
      },
      "source": [
        "_Aside:_ **Slices are objects!**"
      ]
    },
    {
      "cell_type": "code",
      "execution_count": null,
      "metadata": {
        "id": "v378pvvttZjj"
      },
      "outputs": [],
      "source": [
        "ind = slice(6, None, -2)\n",
        "print(bottle[6::-2], bottle[ind])"
      ]
    },
    {
      "cell_type": "markdown",
      "metadata": {
        "id": "3JwIAR6DtZjj"
      },
      "source": [
        "## Booleans and bit manipulation\n",
        "\n",
        "Boolean variables can take on the values of `True` or `False`. The built-in boolean operations are `and`, `or`, and `not`."
      ]
    },
    {
      "cell_type": "code",
      "execution_count": null,
      "metadata": {
        "id": "ivU1epeDtZjj"
      },
      "outputs": [],
      "source": [
        "print(True and False)\n",
        "print(True or True)\n",
        "print(not True)"
      ]
    },
    {
      "cell_type": "markdown",
      "metadata": {
        "id": "67RLqqrJtZjj"
      },
      "source": [
        "In addition to booleans, you can also perform bit-level manipulations on integers. The following operators perform logical operations bitwise between the corresponding bits of the operands.\n",
        "\n",
        "\n",
        "| Operator     | Name            | Description                                 |\n",
        "|--------------|-----------------|---------------------------------------------|\n",
        "| ``a & b``    | Bitwise AND     | Bits defined in both ``a`` and ``b``        |\n",
        "| <code>a &#124; b</code>| Bitwise OR      | Bits defined in ``a`` or ``b`` or both      |\n",
        "| ``a ^ b``    | Bitwise XOR     | Bits defined in ``a`` or ``b`` but not both |\n",
        "| ``a << b``   | Bit shift left  | Shift bits of ``a`` left by ``b`` units     |\n",
        "| ``a >> b``   | Bit shift right | Shift bits of ``a`` right by ``b`` units    |\n",
        "| ``~a``       | Bitwise NOT     | Bitwise negation of ``a``                          |"
      ]
    },
    {
      "cell_type": "markdown",
      "metadata": {
        "id": "2gMYerHptZjj"
      },
      "source": [
        "First, some different ways to inspect the binary representations of integer values as strings (see also [`bin()`](https://docs.python.org/3/library/functions.html#bin) in the Python docs):"
      ]
    },
    {
      "cell_type": "code",
      "execution_count": null,
      "metadata": {
        "id": "c-erjuPCtZjj"
      },
      "outputs": [],
      "source": [
        "print(bin(5))\n",
        "print(format(5, '#b'))\n",
        "print(format(5, 'b')) # no prefix\n",
        "print(f'{5:#b}', f'{5:b}')\n",
        "print('{:07b}'.format(5)) # 7 bits with leading zeros"
      ]
    },
    {
      "cell_type": "code",
      "execution_count": null,
      "metadata": {
        "id": "2eVGjMhttZjj"
      },
      "outputs": [],
      "source": [
        "print('{:06b}'.format(5)) # or use '{:#06b}' for a 6-bit string prefixed by '0b'\n",
        "print('{:06b}'.format(13))\n",
        "print('{:06b}'.format(5 & 13))"
      ]
    },
    {
      "cell_type": "markdown",
      "metadata": {
        "id": "IeYhdvNKtZjj"
      },
      "source": [
        "## Syntactic sugar: update operations"
      ]
    },
    {
      "cell_type": "code",
      "execution_count": null,
      "metadata": {
        "id": "oXNBlC6LtZjj"
      },
      "outputs": [],
      "source": [
        "x = 5\n",
        "y = x\n",
        "y += 3  # Same as y = y + 3\n",
        "print(x, y)"
      ]
    },
    {
      "cell_type": "code",
      "execution_count": null,
      "metadata": {
        "id": "N57cgvgVtZjj"
      },
      "outputs": [],
      "source": []
    }
  ],
  "metadata": {
    "kernelspec": {
      "display_name": "Python 3",
      "language": "python",
      "name": "python3"
    },
    "language_info": {
      "codemirror_mode": {
        "name": "ipython",
        "version": 3
      },
      "file_extension": ".py",
      "mimetype": "text/x-python",
      "name": "python",
      "nbconvert_exporter": "python",
      "pygments_lexer": "ipython3",
      "version": "3.7.3"
    },
    "colab": {
      "provenance": []
    }
  },
  "nbformat": 4,
  "nbformat_minor": 0
}