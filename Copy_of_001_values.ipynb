{
  "cells": [
    {
      "cell_type": "markdown",
      "metadata": {
        "id": "view-in-github",
        "colab_type": "text"
      },
      "source": [
        "<a href=\"https://colab.research.google.com/github/birkneh/EFA/blob/main/Copy_of_001_values.ipynb\" target=\"_parent\"><img src=\"https://colab.research.google.com/assets/colab-badge.svg\" alt=\"Open In Colab\"/></a>"
      ]
    },
    {
      "cell_type": "markdown",
      "metadata": {
        "id": "l0uX9RJMoKh9"
      },
      "source": [
        "| &nbsp; | &nbsp; | &nbsp; |\n",
        "|--------|--------|--------|\n",
        "| [Return to Index Notebook](./index.ipynb) | [View on GitHub](https://github.com/hpcgarage/prymer) | [![Open in Colab](https://colab.research.google.com/assets/colab-badge.svg)](https://colab.research.google.com/github/hpcgarage/prymer/blob/master/001-values.ipynb) |"
      ]
    },
    {
      "cell_type": "markdown",
      "metadata": {
        "id": "x7eGnLkHoKh_"
      },
      "source": [
        "# Values, variables, and types\n",
        "\n",
        "Key concepts\n",
        "* Primitive values and types: `int`, `float`, `complex`, `bool`, `str`, and `NoneType`\n",
        "    - Type promotion\n",
        "    - Type queries\n",
        "* Strings\n",
        "    - Indexing\n",
        "    - Slicing and `slice` objects\n",
        "* Booleans and bit manipulation\n",
        "* Syntatic sugar: Update operations"
      ]
    },
    {
      "cell_type": "markdown",
      "metadata": {
        "id": "Btj2s0CDoKh_"
      },
      "source": [
        "| Type        | Example        | Description                                                  |\n",
        "|-------------|----------------|--------------------------------------------------------------|\n",
        "| ``int``     | ``x = 1``      | integers (i.e., whole numbers)                               |\n",
        "| ``float``   | ``x = 1.0``    | floating-point numbers (i.e., real numbers)                  |\n",
        "| ``complex`` | ``x = 1 + 2j`` | Complex numbers (i.e., numbers with real and imaginary part) |\n",
        "| ``bool``    | ``x = True``   | Boolean: True/False values                                   |\n",
        "| ``str``     | ``x = 'abc'``  | String: characters or text                                   |\n",
        "| ``NoneType``| ``x = None``   | Special object indicating nulls                              |"
      ]
    },
    {
      "cell_type": "markdown",
      "metadata": {
        "id": "rwkV8WGsoKiA"
      },
      "source": [
        "## Basics"
      ]
    },
    {
      "cell_type": "markdown",
      "metadata": {
        "id": "mS24QF0doKiA"
      },
      "source": [
        "Values have types:"
      ]
    },
    {
      "cell_type": "code",
      "execution_count": null,
      "metadata": {
        "id": "xMMMCwgRoKiA",
        "outputId": "2258fe33-da8e-41ef-b4fc-b0089c151eff",
        "colab": {
          "base_uri": "https://localhost:8080/"
        }
      },
      "outputs": [
        {
          "output_type": "execute_result",
          "data": {
            "text/plain": [
              "3"
            ]
          },
          "metadata": {},
          "execution_count": 1
        }
      ],
      "source": [
        "3"
      ]
    },
    {
      "cell_type": "code",
      "execution_count": null,
      "metadata": {
        "id": "Sx2hnGF-oKiB",
        "outputId": "077b9350-5c6c-4322-963f-28095c31d8ad",
        "colab": {
          "base_uri": "https://localhost:8080/"
        }
      },
      "outputs": [
        {
          "output_type": "execute_result",
          "data": {
            "text/plain": [
              "int"
            ]
          },
          "metadata": {},
          "execution_count": 2
        }
      ],
      "source": [
        "type(3)"
      ]
    },
    {
      "cell_type": "code",
      "execution_count": null,
      "metadata": {
        "id": "qSc_TDReoKiC",
        "outputId": "d56b1023-4ac3-4009-91c6-501d4e05fa14",
        "colab": {
          "base_uri": "https://localhost:8080/"
        }
      },
      "outputs": [
        {
          "output_type": "execute_result",
          "data": {
            "text/plain": [
              "3.0"
            ]
          },
          "metadata": {},
          "execution_count": 3
        }
      ],
      "source": [
        "3.0"
      ]
    },
    {
      "cell_type": "code",
      "execution_count": null,
      "metadata": {
        "id": "wDnd3iOmoKiC",
        "outputId": "e662d06e-ff85-4652-90ba-afdea75e8ae2",
        "colab": {
          "base_uri": "https://localhost:8080/"
        }
      },
      "outputs": [
        {
          "output_type": "execute_result",
          "data": {
            "text/plain": [
              "float"
            ]
          },
          "metadata": {},
          "execution_count": 4
        }
      ],
      "source": [
        "type(3.0)"
      ]
    },
    {
      "cell_type": "code",
      "execution_count": null,
      "metadata": {
        "id": "hA_GLxEGoKiC",
        "outputId": "9a1aae1d-e165-4dda-df50-79da08f6b6aa",
        "colab": {
          "base_uri": "https://localhost:8080/",
          "height": 35
        }
      },
      "outputs": [
        {
          "output_type": "execute_result",
          "data": {
            "text/plain": [
              "'3'"
            ],
            "application/vnd.google.colaboratory.intrinsic+json": {
              "type": "string"
            }
          },
          "metadata": {},
          "execution_count": 5
        }
      ],
      "source": [
        "\"3\""
      ]
    },
    {
      "cell_type": "code",
      "execution_count": null,
      "metadata": {
        "id": "L-bXs1qXoKiC",
        "outputId": "26b4f2da-b002-47c5-cc77-dd960227e653",
        "colab": {
          "base_uri": "https://localhost:8080/"
        }
      },
      "outputs": [
        {
          "output_type": "execute_result",
          "data": {
            "text/plain": [
              "str"
            ]
          },
          "metadata": {},
          "execution_count": 6
        }
      ],
      "source": [
        "type(\"3\")"
      ]
    },
    {
      "cell_type": "markdown",
      "metadata": {
        "id": "I6abp1spoKiD"
      },
      "source": [
        "Variables name values:"
      ]
    },
    {
      "cell_type": "code",
      "execution_count": 3,
      "metadata": {
        "id": "s6CbaYtaoKiD",
        "outputId": "dc163b2b-9221-49ab-d8ea-b6b1cc59bb6e",
        "colab": {
          "base_uri": "https://localhost:8080/"
        }
      },
      "outputs": [
        {
          "output_type": "stream",
          "name": "stdout",
          "text": [
            "5\n"
          ]
        }
      ],
      "source": [
        "x = 5\n",
        "print(x)"
      ]
    },
    {
      "cell_type": "markdown",
      "metadata": {
        "id": "LZgZqT41oKiD"
      },
      "source": [
        "Values may be combined using the \"natural\" operators. For integers and floats, for example, you have these options:\n",
        "\n",
        "| Operator     | Name           | Description                                            |\n",
        "|--------------|----------------|--------------------------------------------------------|\n",
        "| ``a + b``    | Addition       | Sum of ``a`` and ``b``                                 |\n",
        "| ``a - b``    | Subtraction    | Difference of ``a`` and ``b``                          |\n",
        "| ``a * b``    | Multiplication | Product of ``a`` and ``b``                             |\n",
        "| ``a / b``    | True division  | Quotient of ``a`` and ``b``                            |\n",
        "| ``a // b``   | Floor division | Quotient of ``a`` and ``b``, removing fractional parts |\n",
        "| ``a % b``    | Modulus        | Integer remainder after division of ``a`` by ``b``     |\n",
        "| ``a ** b``   | Exponentiation | ``a`` raised to the power of ``b``                     |\n",
        "| ``-a``       | Negation       | The negative of ``a``                                  |\n",
        "| ``+a``       | Unary plus     | ``a`` unchanged (rarely used)                          |"
      ]
    },
    {
      "cell_type": "code",
      "execution_count": 4,
      "metadata": {
        "id": "9cifOOPXoKiD",
        "outputId": "9fca7a92-0564-4ef8-b0f0-e087256e143b",
        "colab": {
          "base_uri": "https://localhost:8080/"
        }
      },
      "outputs": [
        {
          "output_type": "stream",
          "name": "stdout",
          "text": [
            "13\n"
          ]
        }
      ],
      "source": [
        "print(2*x + 3)"
      ]
    },
    {
      "cell_type": "markdown",
      "metadata": {
        "id": "kOJcdfHeoKiD"
      },
      "source": [
        "> **Aside.** Formatted I/O and formatted string literals:"
      ]
    },
    {
      "cell_type": "code",
      "execution_count": 5,
      "metadata": {
        "id": "4gqIHrIWoKiD",
        "colab": {
          "base_uri": "https://localhost:8080/"
        },
        "outputId": "ad4b7148-bca3-4d33-f7aa-91d1a97043c9"
      },
      "outputs": [
        {
          "output_type": "stream",
          "name": "stdout",
          "text": [
            "5 has type <class 'int'>\n",
            "5 has type <class 'int'>\n"
          ]
        }
      ],
      "source": [
        "print('{X} has type {T}'.format(X=x, T=type(x)))\n",
        "print(f'{x} has type {type(x)}')"
      ]
    },
    {
      "cell_type": "markdown",
      "metadata": {
        "id": "WNkkveefoKiD"
      },
      "source": [
        "**Type promotion.** For some types, the type of the result is promoted automatically:"
      ]
    },
    {
      "cell_type": "code",
      "execution_count": 6,
      "metadata": {
        "id": "XSsAswTcoKiD",
        "colab": {
          "base_uri": "https://localhost:8080/"
        },
        "outputId": "b2ec5196-a211-432d-f768-5a54cf941b20"
      },
      "outputs": [
        {
          "output_type": "stream",
          "name": "stdout",
          "text": [
            "1 has type <class 'int'>\n",
            "2 has type <class 'int'>\n",
            "0.5 has type <class 'float'>\n"
          ]
        }
      ],
      "source": [
        "x = 1\n",
        "y = 2\n",
        "z = x / y\n",
        "print(x, 'has type', type(x))\n",
        "print(y, 'has type', type(y))\n",
        "print(z, 'has type', type(z))"
      ]
    },
    {
      "cell_type": "code",
      "execution_count": null,
      "metadata": {
        "id": "tqJMwwhtoKiD"
      },
      "outputs": [],
      "source": [
        "# Aside: integer division (floor)\n",
        "print(5 / 2, type(5 / 2))\n",
        "print(5 // 2, type(5 // 2))"
      ]
    },
    {
      "cell_type": "markdown",
      "metadata": {
        "id": "MbQQdS9UoKiD"
      },
      "source": [
        "**Type queries** (asking for a type):"
      ]
    },
    {
      "cell_type": "code",
      "execution_count": 7,
      "metadata": {
        "id": "LBosHz8loKiD",
        "colab": {
          "base_uri": "https://localhost:8080/"
        },
        "outputId": "a7f5aa27-f6d4-4893-c305-453ee7cb6927"
      },
      "outputs": [
        {
          "output_type": "stream",
          "name": "stdout",
          "text": [
            "True\n",
            "<class 'int'> True\n"
          ]
        }
      ],
      "source": [
        "x = 5\n",
        "print(type(x) is int)\n",
        "print(type(x), isinstance(x, int)) # Preferred idiom"
      ]
    },
    {
      "cell_type": "code",
      "execution_count": 8,
      "metadata": {
        "id": "nLOP4qucoKiE",
        "colab": {
          "base_uri": "https://localhost:8080/"
        },
        "outputId": "32002fb3-be55-426c-c992-560636a426b4"
      },
      "outputs": [
        {
          "output_type": "stream",
          "name": "stdout",
          "text": [
            "<class 'bool'> True\n",
            "<class 'float'> False\n",
            "<class 'str'> False\n",
            "<class 'float'> False\n"
          ]
        }
      ],
      "source": [
        "print(type(True), isinstance(True, int))\n",
        "print(type(5.0), isinstance(5.0, type(x)))\n",
        "print(type('5'), isinstance('5', type(x)))\n",
        "print(type(5.0), isinstance(5.0, complex)) # Does not always behave as expected"
      ]
    },
    {
      "cell_type": "code",
      "execution_count": null,
      "metadata": {
        "id": "t6xs1BnuoKiE"
      },
      "outputs": [],
      "source": [
        "(5.0).is_integer() # Special test for floating-point values"
      ]
    },
    {
      "cell_type": "markdown",
      "metadata": {
        "id": "jhq4ds3FoKiE"
      },
      "source": [
        "**`None`/`NoneType`.** The \"non-value\" value, `None`, and its and type:"
      ]
    },
    {
      "cell_type": "code",
      "execution_count": null,
      "metadata": {
        "id": "geY7C0HToKiE"
      },
      "outputs": [],
      "source": [
        "x = None\n",
        "print(x, ':', type(x))\n",
        "print(x == None, x != None)\n",
        "print(x is None, x is not None) # Preferred idiom"
      ]
    },
    {
      "cell_type": "markdown",
      "metadata": {
        "id": "wsKdYcynoKiE"
      },
      "source": [
        "**\"Big\" integers by default.** Integers do not \"overflow\" as they do in most other languages."
      ]
    },
    {
      "cell_type": "code",
      "execution_count": null,
      "metadata": {
        "id": "Hyhp8g_XoKiE"
      },
      "outputs": [],
      "source": [
        "print('(a)', 3**4)\n",
        "print('(b)', 3**40)\n",
        "print('(c)', 3**400)"
      ]
    },
    {
      "cell_type": "markdown",
      "metadata": {
        "id": "eVNQK2CVoKiE"
      },
      "source": [
        "**Math functions.** For numerical values, many of the functions you might want are available in the `math` module."
      ]
    },
    {
      "cell_type": "code",
      "execution_count": null,
      "metadata": {
        "id": "Qmke7cZHoKiE"
      },
      "outputs": [],
      "source": [
        "import math\n",
        "\n",
        "math"
      ]
    },
    {
      "cell_type": "markdown",
      "metadata": {
        "id": "YXu6tIXOoKiE"
      },
      "source": [
        "## Strings"
      ]
    },
    {
      "cell_type": "code",
      "execution_count": null,
      "metadata": {
        "id": "h_u5_kI9oKiE"
      },
      "outputs": [],
      "source": [
        "bottle = \"message\"\n",
        "print(bottle, ':', type(bottle))"
      ]
    },
    {
      "cell_type": "code",
      "execution_count": null,
      "metadata": {
        "id": "8waw_gSBoKiE"
      },
      "outputs": [],
      "source": [
        "bottle + bottle"
      ]
    },
    {
      "cell_type": "code",
      "execution_count": null,
      "metadata": {
        "id": "0d-AIKOxoKiE"
      },
      "outputs": [],
      "source": [
        "'sag' in bottle"
      ]
    },
    {
      "cell_type": "code",
      "execution_count": null,
      "metadata": {
        "id": "f-qNyZtOoKiE"
      },
      "outputs": [],
      "source": [
        "sixpack = bottle * 6\n",
        "print(\"|'{s}'| == {n}.\".format(s=sixpack, n=len(sixpack))) # print string and its length"
      ]
    },
    {
      "cell_type": "code",
      "execution_count": null,
      "metadata": {
        "id": "7xzMp6O5oKiE"
      },
      "outputs": [],
      "source": [
        "bottle.upper()"
      ]
    },
    {
      "cell_type": "markdown",
      "metadata": {
        "id": "rWD7OBwGoKiF"
      },
      "source": [
        "_Aside:_ In the cell below, type `bottle.` and then press tab."
      ]
    },
    {
      "cell_type": "markdown",
      "metadata": {
        "id": "BHWgxBYAoKiF"
      },
      "source": [
        "**Indexing strings.**"
      ]
    },
    {
      "cell_type": "code",
      "execution_count": null,
      "metadata": {
        "id": "qfMeAhH7oKiF"
      },
      "outputs": [],
      "source": [
        "print(f'|{bottle}| == {len(bottle)}')\n",
        "print('0:', bottle[0])\n",
        "print('1:', bottle[1])\n",
        "print('2:', bottle[2])\n",
        "print('3:', bottle[3])\n",
        "print('4:', bottle[4])\n",
        "print('5:', bottle[5])\n",
        "print('6:', bottle[6])\n",
        "# print('7:', bottle[7]) <-- out-of-range"
      ]
    },
    {
      "cell_type": "markdown",
      "metadata": {
        "id": "PU1uUoFhoKiK"
      },
      "source": [
        "**Slices.** Let $0 \\leq a < b$. Then $a:b$ is a _slice_ that specifies the right-open interval, $[a, b)$."
      ]
    },
    {
      "cell_type": "code",
      "execution_count": null,
      "metadata": {
        "id": "ZQqRGi1YoKiK"
      },
      "outputs": [],
      "source": [
        "print(\"'{}'\".format(bottle[3:5]))\n",
        "print(\"'{}'\".format(bottle[5:3])) # Empty, since a >= b"
      ]
    },
    {
      "cell_type": "markdown",
      "metadata": {
        "id": "DS8Xa14voKiK"
      },
      "source": [
        "If $a$ (or $b$) is negative, then it is replaced with $n+a$ (or $n+b$), where $n$ is the length of the string. In other words, negative positions are interpreted as \"counting from the end.\""
      ]
    },
    {
      "cell_type": "code",
      "execution_count": null,
      "metadata": {
        "id": "_BKtFdIhoKiK"
      },
      "outputs": [],
      "source": [
        "print(\"'{}'\".format(bottle[-3:-5])) # n-3:n-5, which is empty since n-3 > n-5\n",
        "print(\"'{}'\".format(bottle[-5:-3]))"
      ]
    },
    {
      "cell_type": "markdown",
      "metadata": {
        "id": "0IQ63NTkoKiK"
      },
      "source": [
        "A slice may have a third parameter, $a:b:s$, where $s$ denotes the _step size_. Again, assume $0 \\leq a < b$ and suppose $s > 0$. Then the 3-parameter slice $a:b:s$ expands into the sequence, $a, a+s, a+2s, \\ldots, a+(k-1)s$, where $k = \\left\\lfloor\\frac{b-a}{s}\\right\\rfloor$.\n",
        "\n",
        "_Defaults._ Omitting `a`, `b`, or `s` yields the defaults of `a=0`, `b=len(x)`, and `s=1`."
      ]
    },
    {
      "cell_type": "code",
      "execution_count": null,
      "metadata": {
        "id": "ItoXfj6HoKiK"
      },
      "outputs": [],
      "source": [
        "print(bottle[2:7:2])\n",
        "print(bottle[2::2])"
      ]
    },
    {
      "cell_type": "markdown",
      "metadata": {
        "id": "Dl5DqyP3oKiK"
      },
      "source": [
        "Right-open intervals allow simple splittings of intervals:"
      ]
    },
    {
      "cell_type": "code",
      "execution_count": null,
      "metadata": {
        "id": "iwNP5QOFoKiK"
      },
      "outputs": [],
      "source": [
        "print(bottle[:4],  # Up to (but excluding) 4, since intervals are right-open\n",
        "      bottle[4:])  # Resume at 4\n",
        "\n",
        "k = len(bottle) - 3 # Note: len(bottle) == 7, so this is same as above\n",
        "print(bottle[:k], bottle[k:])\n",
        "\n",
        "k = -3 # Recall: a negative endpoint x becomes n+x\n",
        "print(bottle[:-3], bottle[-3:]) # Shorthand"
      ]
    },
    {
      "cell_type": "markdown",
      "metadata": {
        "id": "F23xFlasoKiL"
      },
      "source": [
        "**Negative steps** ($s < 0$) reverse the direction. That is, if $s < 0$ then one cannot have a non-empty sequence unless $a > b$. The defaults for omitted $a$ and $b$ values change to $a=n-1$ and $b=-1$ (recall that the intervals are right-open)."
      ]
    },
    {
      "cell_type": "code",
      "execution_count": null,
      "metadata": {
        "id": "zEtmHp3EoKiL"
      },
      "outputs": [],
      "source": [
        "print(bottle[::-1])\n",
        "print(bottle[::-2], bottle[6::-2])\n",
        "print(\"'{}'\".format(bottle[0::1]))\n",
        "print(\"'{}'\".format(bottle[0::-1]))"
      ]
    },
    {
      "cell_type": "markdown",
      "metadata": {
        "id": "-FhxYXYhoKiL"
      },
      "source": [
        "_Aside:_ **Slices are objects!**"
      ]
    },
    {
      "cell_type": "code",
      "execution_count": null,
      "metadata": {
        "id": "Ge3OhQCJoKiL"
      },
      "outputs": [],
      "source": [
        "ind = slice(6, None, -2)\n",
        "print(bottle[6::-2], bottle[ind])"
      ]
    },
    {
      "cell_type": "markdown",
      "metadata": {
        "id": "yagmRTk3oKiL"
      },
      "source": [
        "## Booleans and bit manipulation\n",
        "\n",
        "Boolean variables can take on the values of `True` or `False`. The built-in boolean operations are `and`, `or`, and `not`."
      ]
    },
    {
      "cell_type": "code",
      "execution_count": null,
      "metadata": {
        "id": "iOkzmTMuoKiL"
      },
      "outputs": [],
      "source": [
        "print(True and False)\n",
        "print(True or True)\n",
        "print(not True)"
      ]
    },
    {
      "cell_type": "markdown",
      "metadata": {
        "id": "_bJyVvlsoKiL"
      },
      "source": [
        "In addition to booleans, you can also perform bit-level manipulations on integers. The following operators perform logical operations bitwise between the corresponding bits of the operands.\n",
        "\n",
        "\n",
        "| Operator     | Name            | Description                                 |\n",
        "|--------------|-----------------|---------------------------------------------|\n",
        "| ``a & b``    | Bitwise AND     | Bits defined in both ``a`` and ``b``        |\n",
        "| <code>a &#124; b</code>| Bitwise OR      | Bits defined in ``a`` or ``b`` or both      |\n",
        "| ``a ^ b``    | Bitwise XOR     | Bits defined in ``a`` or ``b`` but not both |\n",
        "| ``a << b``   | Bit shift left  | Shift bits of ``a`` left by ``b`` units     |\n",
        "| ``a >> b``   | Bit shift right | Shift bits of ``a`` right by ``b`` units    |\n",
        "| ``~a``       | Bitwise NOT     | Bitwise negation of ``a``                          |"
      ]
    },
    {
      "cell_type": "markdown",
      "metadata": {
        "id": "mzMw6fzFoKiL"
      },
      "source": [
        "First, some different ways to inspect the binary representations of integer values as strings (see also [`bin()`](https://docs.python.org/3/library/functions.html#bin) in the Python docs):"
      ]
    },
    {
      "cell_type": "code",
      "execution_count": null,
      "metadata": {
        "id": "niuvuHjpoKiL"
      },
      "outputs": [],
      "source": [
        "print(bin(5))\n",
        "print(format(5, '#b'))\n",
        "print(format(5, 'b')) # no prefix\n",
        "print(f'{5:#b}', f'{5:b}')\n",
        "print('{:07b}'.format(5)) # 7 bits with leading zeros"
      ]
    },
    {
      "cell_type": "code",
      "execution_count": null,
      "metadata": {
        "id": "ZYdrKk8moKiL"
      },
      "outputs": [],
      "source": [
        "print('{:06b}'.format(5)) # or use '{:#06b}' for a 6-bit string prefixed by '0b'\n",
        "print('{:06b}'.format(13))\n",
        "print('{:06b}'.format(5 & 13))"
      ]
    },
    {
      "cell_type": "markdown",
      "metadata": {
        "id": "ReX9Kmp1oKiL"
      },
      "source": [
        "## Syntactic sugar: update operations"
      ]
    },
    {
      "cell_type": "code",
      "execution_count": null,
      "metadata": {
        "id": "M0QuVzz4oKiL"
      },
      "outputs": [],
      "source": [
        "x = 5\n",
        "y = x\n",
        "y += 3  # Same as y = y + 3\n",
        "print(x, y)"
      ]
    },
    {
      "cell_type": "code",
      "execution_count": null,
      "metadata": {
        "id": "iPsyK8deoKiL"
      },
      "outputs": [],
      "source": []
    }
  ],
  "metadata": {
    "kernelspec": {
      "display_name": "Python 3",
      "language": "python",
      "name": "python3"
    },
    "language_info": {
      "codemirror_mode": {
        "name": "ipython",
        "version": 3
      },
      "file_extension": ".py",
      "mimetype": "text/x-python",
      "name": "python",
      "nbconvert_exporter": "python",
      "pygments_lexer": "ipython3",
      "version": "3.7.3"
    },
    "colab": {
      "provenance": [],
      "include_colab_link": true
    }
  },
  "nbformat": 4,
  "nbformat_minor": 0
}